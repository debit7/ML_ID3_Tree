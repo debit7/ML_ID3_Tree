{
 "cells": [
  {
   "cell_type": "markdown",
   "id": "3ca46f75-70b3-45c1-ab37-07682ffcd3c3",
   "metadata": {},
   "source": [
    "Project: **Data Visualization and Analysis, Machine Learning Programming Project 3** \n",
    "<br>\n",
    "Team Members: **Debit Paudel, Kushal Dahal**\n",
    "<br>\n",
    "Github Link: https://github.com/debit7/ML_ID3_Tree?fbclid=IwAR0Yc5W4XYJMTMZT9XSqI53pGClOtvE_vVClQIy5apIuiIBZSNhHm9wr0so"
   ]
  },
  {
   "cell_type": "markdown",
   "id": "9d0856f5-490e-466e-98dd-6c965a30437e",
   "metadata": {},
   "source": [
    "Having four different datasets to work in this project, our first priority was to write code in a dynamic approach so the same code can be implemented to get valid output for each kind of datasets. Though it was difficult to solve the problem at once we followed the steps one by one getting result for each steps.\n",
    "We worked to classify their labels for each data set so that we can predict the new instances on the basis of the decision tree. Initially we read the data of the csv file and preprocessed them to make the data structured and usable to work on them. "
   ]
  },
  {
   "cell_type": "markdown",
   "id": "0ac16d2a-cf5a-4bdd-a566-d92ac620004d",
   "metadata": {},
   "source": [
    "While reading the dataset, we felt that we need to separate the contents of the file by paragraphs. For the first paragraph, we retrieved the title of the project. Second paragraph are retrieved as the headers for the final structured data. Third paragraph is taken an as the targets we have to classify. Ans for the fourth paragraph, we took them as an data. To conduct these above steps, we build Get_Attributes to build headers. Get_Data function will retrieve the data from the file and build a structured data. Get_Target function lists the possible targets/classifiers available in the data. Get_Attribute_classes function returns the list of every labels of the attributes "
   ]
  },
  {
   "cell_type": "code",
   "execution_count": 43,
   "id": "38fe2e6a-4f3f-4eca-b049-0850c7d68d9a",
   "metadata": {},
   "outputs": [
    {
     "name": "stdout",
     "output_type": "stream",
     "text": [
      "['Pulse', 'BP', 'Age', 'Treat']\n",
      "[[' Normal', 'Rapid'], [' Normal', 'High'], [' <25', '25-40', '>40']]\n",
      "  Attributes              Labels\n",
      "0      Pulse    [ Normal, Rapid]\n",
      "1         BP     [ Normal, High]\n",
      "2        Age  [ <25, 25-40, >40]\n"
     ]
    },
    {
     "data": {
      "text/html": [
       "<div>\n",
       "<style scoped>\n",
       "    .dataframe tbody tr th:only-of-type {\n",
       "        vertical-align: middle;\n",
       "    }\n",
       "\n",
       "    .dataframe tbody tr th {\n",
       "        vertical-align: top;\n",
       "    }\n",
       "\n",
       "    .dataframe thead th {\n",
       "        text-align: right;\n",
       "    }\n",
       "</style>\n",
       "<table border=\"1\" class=\"dataframe\">\n",
       "  <thead>\n",
       "    <tr style=\"text-align: right;\">\n",
       "      <th></th>\n",
       "      <th>Pulse</th>\n",
       "      <th>BP</th>\n",
       "      <th>Age</th>\n",
       "      <th>Treat</th>\n",
       "    </tr>\n",
       "  </thead>\n",
       "  <tbody>\n",
       "    <tr>\n",
       "      <th>0</th>\n",
       "      <td>Normal</td>\n",
       "      <td>Normal</td>\n",
       "      <td>&lt;25</td>\n",
       "      <td>Positive</td>\n",
       "    </tr>\n",
       "    <tr>\n",
       "      <th>1</th>\n",
       "      <td>Normal</td>\n",
       "      <td>Normal</td>\n",
       "      <td>25-40</td>\n",
       "      <td>Positive</td>\n",
       "    </tr>\n",
       "    <tr>\n",
       "      <th>2</th>\n",
       "      <td>Rapid</td>\n",
       "      <td>Normal</td>\n",
       "      <td>&gt;40</td>\n",
       "      <td>Positive</td>\n",
       "    </tr>\n",
       "    <tr>\n",
       "      <th>3</th>\n",
       "      <td>Normal</td>\n",
       "      <td>High</td>\n",
       "      <td>&gt;40</td>\n",
       "      <td>Negative</td>\n",
       "    </tr>\n",
       "    <tr>\n",
       "      <th>4</th>\n",
       "      <td>Rapid</td>\n",
       "      <td>High</td>\n",
       "      <td>&gt;40</td>\n",
       "      <td>Negative</td>\n",
       "    </tr>\n",
       "  </tbody>\n",
       "</table>\n",
       "</div>"
      ],
      "text/plain": [
       "    Pulse      BP    Age     Treat\n",
       "0  Normal  Normal    <25  Positive\n",
       "1  Normal  Normal  25-40  Positive\n",
       "2   Rapid  Normal    >40  Positive\n",
       "3  Normal    High    >40  Negative\n",
       "4   Rapid    High    >40  Negative"
      ]
     },
     "execution_count": 43,
     "metadata": {},
     "output_type": "execute_result"
    }
   ],
   "source": [
    "import pandas as pd\n",
    "import math\n",
    "with open(\"treatment.data\", \"r\") as input:\n",
    "    whole_data = input.read().split(\"\\n\\n\") \n",
    "Heading=whole_data[0].replace('#','')\n",
    "def Get_Attributes(Adata,Cdata):\n",
    "    x=Adata.split('\\n')\n",
    "    attributes=[]\n",
    "    for y in x:\n",
    "        atts=y.split('#')[1].split(':')[0]\n",
    "        attributes.append(atts)\n",
    "    attributes.pop(0)\n",
    "    c=Cdata.split('\\n')\n",
    "    cattributes=[]\n",
    "    for y in c:\n",
    "        atts=y.split('#')[1].split(':')[0]\n",
    "        cattributes.append(atts)\n",
    "    cattributes.pop(0)\n",
    "    attributes.append(cattributes[0])\n",
    "    return attributes\n",
    "def Get_Data(Rdata):\n",
    "    Rdata=Rdata.split('\\n')\n",
    "    Rdata.pop(0)\n",
    "    lst = []\n",
    "    for ele in Rdata:\n",
    "        line = ele.replace(' ','').split(',')\n",
    "            \n",
    "        lst.append(line)\n",
    "    # lst.pop(-1)\n",
    "    return lst\n",
    "def Get_Targets(Tdata):\n",
    "    Tdata=Tdata.split(':')\n",
    "    targets=Tdata[1].split(',')\n",
    "\n",
    "    return targets\n",
    "def Get_Attribute_classes(Cdata):\n",
    "    Data=Cdata.split('\\n')\n",
    "    Data.pop(0)\n",
    "    set_data=[]\n",
    "    for dta in Data:\n",
    "        new=dta.split(':')\n",
    "        gg=new[1].split(',')\n",
    "        set_data.append(gg)\n",
    "    return set_data\n",
    "\n",
    "\n",
    "Targets=Get_Targets(whole_data[2])\n",
    "# print(Targets)\n",
    "Headers=Get_Attributes(whole_data[1],whole_data[2])\n",
    "print(Headers)\n",
    "df = pd.DataFrame(Get_Data(whole_data[3]),columns =Headers) \n",
    "df[df.columns] = df.apply(lambda x: x.str.strip())\n",
    "Atts_labels=Get_Attribute_classes(whole_data[1])\n",
    "print(Atts_labels)\n",
    "heads=Get_Attributes(whole_data[1],whole_data[2])\n",
    "heads.pop(len(heads)-1)\n",
    "Headers_labels_mapping= {'Attributes':heads,'Labels':Atts_labels}\n",
    "Headers_labels_mapping=pd.DataFrame(Headers_labels_mapping)\n",
    "print(Headers_labels_mapping)\n",
    "df.head()"
   ]
  },
  {
   "cell_type": "markdown",
   "id": "a3ce0d6a-bd8f-4c27-b1bd-67b7b76263f3",
   "metadata": {},
   "source": [
    "After having an structured data frame for the dataset, we build count function  to find the total number of counts for each labels of a attributes and the count of classifiers. Get_Probability_Total calculates the probability of the targets."
   ]
  },
  {
   "cell_type": "code",
   "execution_count": 44,
   "id": "458aadae-2f46-453b-ad33-7498234d1609",
   "metadata": {},
   "outputs": [
    {
     "name": "stdout",
     "output_type": "stream",
     "text": [
      "[0.6, 0.4]\n"
     ]
    }
   ],
   "source": [
    "def count(data,colname,label,target):\n",
    "    condition = (data[colname] == label) & (data[Headers[-1]] == target)\n",
    "    return len(data[condition])\n",
    "def Get_Probability_Total(Df,Headers,Targets):\n",
    "    total_probs=[]\n",
    "    total_counts=[]\n",
    "    \n",
    "    for trt in Targets:\n",
    "\n",
    "        \n",
    "        total_counts.append(count(Df,Headers[-1],trt.strip(),trt.strip()))\n",
    "    total_outcomes=sum(total_counts)\n",
    "    \n",
    "    for prob in total_counts:\n",
    "        total_probs.append(prob/total_outcomes)\n",
    "    \n",
    "    # target_probs = dict(zip(Targets, total_probs))\n",
    "    return total_probs\n",
    "print(Get_Probability_Total(df,Headers,Targets))"
   ]
  },
  {
   "cell_type": "markdown",
   "id": "5b30e43a-47b3-4da9-801e-36f0c653bf38",
   "metadata": {},
   "source": [
    "After having the probability and counts we worked to calculate entropy and gain. For the entropy caculation we build an Calculate_entropy function implementing the formula of entropy and using the output of Get_Probability_Total in the formula."
   ]
  },
  {
   "cell_type": "code",
   "execution_count": 45,
   "id": "ab91012d-6de6-452c-bf41-ec765ebdab72",
   "metadata": {},
   "outputs": [],
   "source": [
    "def Calculate_entropy(List_of_probs):\n",
    "    \n",
    "\n",
    "    Entropy=0\n",
    "    for probs in List_of_probs:\n",
    "        if probs==0:\n",
    "            return 0\n",
    "        Entropy+=probs*math.log2(probs)*(-1)\n",
    "    return Entropy\n",
    "Total_entropy=Calculate_entropy(Get_Probability_Total(df,Headers,Targets))\n",
    "\n",
    "\n",
    "    "
   ]
  },
  {
   "cell_type": "markdown",
   "id": "375cdd6d-4586-4b42-b1ae-12f40afb431f",
   "metadata": {},
   "source": [
    "After getting the entropy for each attributes and labels, we build Calculate_Gain function to calculate the gain for each attributes based on the entropy values calculated."
   ]
  },
  {
   "cell_type": "code",
   "execution_count": 46,
   "id": "6c5323f1-b3ea-40d5-bad2-906aa228200b",
   "metadata": {},
   "outputs": [],
   "source": [
    "def Calculate_Gain(Total_entropy,Ratio,Entropy):\n",
    "    i=0\n",
    "    Gain=0\n",
    "    \n",
    "    for ent in Entropy:\n",
    "        Gain+=Ratio[i]*ent\n",
    "        i+=1\n",
    "    Final_Gain=Total_entropy-Gain\n",
    "    return Final_Gain"
   ]
  },
  {
   "cell_type": "raw",
   "id": "760597bf-c727-49b2-8b32-039db3f9d5c5",
   "metadata": {},
   "source": [
    "We build a counting function to utilizing the above functions to build a pandas dataframe of gain and entropy table."
   ]
  },
  {
   "cell_type": "code",
   "execution_count": 47,
   "id": "4dfd0ac2-93f4-4abf-8dd9-2e02a5a82d73",
   "metadata": {},
   "outputs": [
    {
     "name": "stdout",
     "output_type": "stream",
     "text": [
      "  Attributes      Gain\n",
      "0      Pulse  0.178469\n",
      "1         BP  0.970951\n",
      "2        Age  0.511803\n"
     ]
    }
   ],
   "source": [
    "def Countings(Atts_labels):\n",
    "    countings=[]\n",
    "    gain_df=[]\n",
    "    i=0\n",
    "    for labels in Atts_labels:\n",
    "            entropies=[]\n",
    "            ratios=[]\n",
    "            for dta in labels:\n",
    "                j=0\n",
    "                \n",
    "                prob_arrays=[]\n",
    "                totals=0\n",
    "                s=0   \n",
    "                while(s<len(Targets)):\n",
    "                        totals+=count(df,Headers[i],dta.strip(),Targets[s].strip())\n",
    "                        prob_arrays.append(count(df,Headers[i],dta.strip(),Targets[s].strip()))\n",
    "                        s=s+1\n",
    "                entropy_ars=[]\n",
    "                for ars in prob_arrays:\n",
    "                    entropy_ars.append(ars/totals)\n",
    "                real_entropy=Calculate_entropy(entropy_ars)\n",
    "                entropies.append(real_entropy)\n",
    "                ratios.append(sum(prob_arrays)/len(df))\n",
    "                countings.append([Headers[i],dta.strip(),prob_arrays,real_entropy])\n",
    "            Gain=Calculate_Gain(Total_entropy,ratios,entropies)\n",
    "            gain_df.append([Headers[i],Gain])\n",
    "\n",
    "\n",
    "            i+=1\n",
    "    # print(countings)\n",
    "    return pd.DataFrame(countings,columns=['Attributes','Labels','Array','entropy']),pd.DataFrame(gain_df,columns=['Attributes','Gain'])\n",
    "\n",
    "Calculation_Frame,Gain_dataframe=Countings(Atts_labels)\n",
    "# Calculation_Frame.groupby(['Attributes','Labels']).apply(lambda x: Calculate_entropy(x['entropy']))\n",
    "# Calculation_Frame.groupby(['Attributes','Labels']).apply(lambda x: Calculate_entropy(x['value1'])).astype(int)\n",
    "        \n",
    "print(Gain_dataframe)"
   ]
  },
  {
   "cell_type": "markdown",
   "id": "9dec1ccd-bb0c-49a4-ae45-da255eb042c5",
   "metadata": {},
   "source": [
    "we calculated gain for each attributes and started to compare to get the max gain with an initiation to build the decision tree."
   ]
  },
  {
   "cell_type": "code",
   "execution_count": 48,
   "id": "2d53bcba-a1eb-4cd0-8113-3d77fa04bf2b",
   "metadata": {},
   "outputs": [],
   "source": [
    "def Find_Max(df):\n",
    "    col = \"Gain\"\n",
    "    max_x = df.loc[df[col].idxmax()]\n",
    "    return max_x['Attributes']"
   ]
  },
  {
   "cell_type": "raw",
   "id": "fe9daa8f-2f4c-40fc-90f2-6f6561cc8186",
   "metadata": {},
   "source": [
    "After finding the maximum gain, we wrote Draw_Tree_Diagram function to build a tree type structure. In this function we implented anytree package to build the tree type structure."
   ]
  },
  {
   "cell_type": "code",
   "execution_count": 49,
   "id": "2de15223-2c92-43e4-8702-e1c18430c2bd",
   "metadata": {},
   "outputs": [
    {
     "name": "stdout",
     "output_type": "stream",
     "text": [
      "BP\n",
      "├──  Normal\n",
      "└── High\n"
     ]
    }
   ],
   "source": [
    "from anytree import Node, RenderTree\n",
    "def Draw_Tree_Diagram(Headers_labels_mapping,Highest_Gain):\n",
    "    # Headers_labels_mapping.where(Headers_labels_mapping['Attributes']==Highest_Gain, inplace=True)\n",
    "    rslt_df = Headers_labels_mapping[Headers_labels_mapping['Attributes']==Highest_Gain]\n",
    "    labels=rslt_df['Labels']\n",
    "    udo = Node(Highest_Gain)\n",
    "    for lst in labels:\n",
    "        for ss in lst:\n",
    "            ss = Node(ss, parent=udo)\n",
    "    for pre, fill, node in RenderTree(udo):\n",
    "        print(\"%s%s\" % (pre, node.name))\n",
    "Draw_Tree_Diagram(Headers_labels_mapping,Find_Max(Gain_dataframe))"
   ]
  },
  {
   "cell_type": "markdown",
   "id": "b87ffb0f-4a08-4278-92c2-29f31321159a",
   "metadata": {},
   "source": [
    "**Approach and Problem Encountered**\n",
    "<br>\n",
    "Our approach is to write as dynamic code as possible which can be implemented for all the datasets. We created function and the implemented the steps of the decision tree we had conducted on our class. The code worked and we got the output for all the datasets.\n",
    "<br>\n",
    "We faced several problems while working on this project. At the begining it took us more time to get the structured dataframe from the data file provided. We made it dynamic that works for all files. We did not have much experience in manipulating pandas dataframe. This is the reason it took us time to learn and implement the aggregate functions, group by, and those kind of things. To build the final tree, we implemented different approaches and got the result finally using anytree package. Our aim is to build a full tree in future implementing the recursion in our code"
   ]
  },
  {
   "cell_type": "markdown",
   "id": "afccba10-1aec-4324-8eaf-05a012ddeed8",
   "metadata": {},
   "source": [
    "**Validation in Python**\n",
    "<br>\n",
    "We implemented sckit learn for validation and conducted labelencoding for categorical data type. "
   ]
  },
  {
   "cell_type": "code",
   "execution_count": 50,
   "id": "6a9fdc9a-8e28-4076-8f16-eaa4b624ac84",
   "metadata": {},
   "outputs": [
    {
     "data": {
      "text/html": [
       "<div>\n",
       "<style scoped>\n",
       "    .dataframe tbody tr th:only-of-type {\n",
       "        vertical-align: middle;\n",
       "    }\n",
       "\n",
       "    .dataframe tbody tr th {\n",
       "        vertical-align: top;\n",
       "    }\n",
       "\n",
       "    .dataframe thead th {\n",
       "        text-align: right;\n",
       "    }\n",
       "</style>\n",
       "<table border=\"1\" class=\"dataframe\">\n",
       "  <thead>\n",
       "    <tr style=\"text-align: right;\">\n",
       "      <th></th>\n",
       "      <th>Pulse</th>\n",
       "      <th>BP</th>\n",
       "      <th>Age</th>\n",
       "      <th>Treat</th>\n",
       "    </tr>\n",
       "  </thead>\n",
       "  <tbody>\n",
       "    <tr>\n",
       "      <th>0</th>\n",
       "      <td>1</td>\n",
       "      <td>1</td>\n",
       "      <td>1</td>\n",
       "      <td>Positive</td>\n",
       "    </tr>\n",
       "    <tr>\n",
       "      <th>1</th>\n",
       "      <td>1</td>\n",
       "      <td>1</td>\n",
       "      <td>0</td>\n",
       "      <td>Positive</td>\n",
       "    </tr>\n",
       "    <tr>\n",
       "      <th>2</th>\n",
       "      <td>2</td>\n",
       "      <td>1</td>\n",
       "      <td>2</td>\n",
       "      <td>Positive</td>\n",
       "    </tr>\n",
       "    <tr>\n",
       "      <th>3</th>\n",
       "      <td>1</td>\n",
       "      <td>0</td>\n",
       "      <td>2</td>\n",
       "      <td>Negative</td>\n",
       "    </tr>\n",
       "    <tr>\n",
       "      <th>4</th>\n",
       "      <td>2</td>\n",
       "      <td>0</td>\n",
       "      <td>2</td>\n",
       "      <td>Negative</td>\n",
       "    </tr>\n",
       "  </tbody>\n",
       "</table>\n",
       "</div>"
      ],
      "text/plain": [
       "   Pulse  BP  Age     Treat\n",
       "0      1   1    1  Positive\n",
       "1      1   1    0  Positive\n",
       "2      2   1    2  Positive\n",
       "3      1   0    2  Negative\n",
       "4      2   0    2  Negative"
      ]
     },
     "execution_count": 50,
     "metadata": {},
     "output_type": "execute_result"
    }
   ],
   "source": [
    "import pandas as pd\n",
    "from sklearn.tree import DecisionTreeClassifier \n",
    "from sklearn.model_selection import train_test_split \n",
    "from sklearn import metrics \n",
    "import pandas as pd\n",
    "\n",
    "from sklearn.preprocessing import LabelEncoder\n",
    "labelencoder = LabelEncoder()\n",
    "\n",
    "df['Pulse'] = labelencoder.fit_transform(df['Pulse'])\n",
    "df['BP'] = labelencoder.fit_transform(df['BP'])\n",
    "df['Age'] = labelencoder.fit_transform(df['Age'])\n",
    "df.head()\n",
    "\n",
    "\n"
   ]
  },
  {
   "cell_type": "raw",
   "id": "91f7ff2d-fff9-4afe-83f6-5a1af2e0f680",
   "metadata": {},
   "source": [
    "After encoding the categorical variable, we implemented train_test_split and used DecisionTreeClassifier() to train the model. To visualize the tree we implented matplotlib and tree and built a tree structure."
   ]
  },
  {
   "cell_type": "code",
   "execution_count": 51,
   "id": "d629b8ed-9671-4cff-a47d-91cbaf64e9b0",
   "metadata": {},
   "outputs": [
    {
     "data": {
      "image/png": "[encoded data removed]",
      "text/plain": [
       "<Figure size 2160x720 with 1 Axes>"
      ]
     },
     "metadata": {},
     "output_type": "display_data"
    }
   ],
   "source": [
    "feature = ['Pulse', 'BP', 'Age']\n",
    "X = df[feature]\n",
    "y = df.Treat\n",
    "labels = y.unique()\n",
    "\n",
    "from sklearn.model_selection import train_test_split\n",
    "X_train, X_test, y_train, y_test = train_test_split(X, y, test_size=0.4, random_state=42)\n",
    "clf = DecisionTreeClassifier()\n",
    "\n",
    "# Train Decision Tree Classifer\n",
    "clf = clf.fit(X_train,y_train)\n",
    "from sklearn import tree\n",
    "import matplotlib.pyplot as plt\n",
    "#plt the figure, setting a black background\n",
    "plt.figure(figsize=(30,10), facecolor ='k')\n",
    "#create the tree plot\n",
    "a = tree.plot_tree(clf,\n",
    "                   #use the feature names stored\n",
    "                   feature_names = feature,\n",
    "                   #use the class names stored\n",
    "                   class_names = labels,\n",
    "                   rounded = True,\n",
    "                   filled = True,\n",
    "                   fontsize=14)\n",
    "#show the plot\n",
    "plt.show()"
   ]
  },
  {
   "cell_type": "markdown",
   "id": "2758a625-4f25-47ae-9643-09acd8fcff5f",
   "metadata": {},
   "source": [
    "**Comparision of built and validated model**\n",
    "<br>\n",
    "While comparing the tree of our model with the tree of validated model, we can see that in both scenarios BP is at the top of tree. This shows that the model we built is working fine and BP have highest gain which is the reason we can see it in the top of the tree."
   ]
  },
  {
   "cell_type": "code",
   "execution_count": null,
   "id": "f93831e7-041e-4198-ab1f-58377e959575",
   "metadata": {},
   "outputs": [],
   "source": []
  }
 ],
 "metadata": {
  "kernelspec": {
   "display_name": "Python 3",
   "language": "python",
   "name": "python3"
  },
  "language_info": {
   "codemirror_mode": {
    "name": "ipython",
    "version": 3
   },
   "file_extension": ".py",
   "mimetype": "text/x-python",
   "name": "python",
   "nbconvert_exporter": "python",
   "pygments_lexer": "ipython3",
   "version": "3.8.8"
  }
 },
 "nbformat": 4,
 "nbformat_minor": 5
}
